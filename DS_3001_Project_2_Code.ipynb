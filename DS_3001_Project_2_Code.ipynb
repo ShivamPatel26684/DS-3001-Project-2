{
  "nbformat": 4,
  "nbformat_minor": 0,
  "metadata": {
    "colab": {
      "provenance": [],
      "authorship_tag": "ABX9TyNWIdAJt1N/Emmzc5zSS1MW",
      "include_colab_link": true
    },
    "kernelspec": {
      "name": "python3",
      "display_name": "Python 3"
    },
    "language_info": {
      "name": "python"
    }
  },
  "cells": [
    {
      "cell_type": "markdown",
      "metadata": {
        "id": "view-in-github",
        "colab_type": "text"
      },
      "source": [
        "<a href=\"https://colab.research.google.com/github/ShivamPatel26684/DS-3001-Project-2/blob/main/DS_3001_Project_2_Code.ipynb\" target=\"_parent\"><img src=\"https://colab.research.google.com/assets/colab-badge.svg\" alt=\"Open In Colab\"/></a>"
      ]
    },
    {
      "cell_type": "code",
      "execution_count": 17,
      "metadata": {
        "id": "pXziRq5JdiBB"
      },
      "outputs": [],
      "source": [
        "import numpy as np\n",
        "import pandas as pd"
      ]
    },
    {
      "cell_type": "code",
      "source": [
        "training_data = pd.read_csv('/content/training_data.csv')\n",
        "testing_data = pd.read_csv('/content/testing_data.csv')"
      ],
      "metadata": {
        "id": "FeSFqXZpeUhP"
      },
      "execution_count": 18,
      "outputs": []
    },
    {
      "cell_type": "code",
      "source": [
        "def pn(to_print):\n",
        "  print('\\n',to_print,'\\n')"
      ],
      "metadata": {
        "id": "_ZUrZRYLfAGQ"
      },
      "execution_count": 19,
      "outputs": []
    },
    {
      "cell_type": "markdown",
      "source": [
        "# Cleaning Data\n",
        "\n",
        "\n"
      ],
      "metadata": {
        "id": "ZjPMj9I0em3Z"
      }
    },
    {
      "cell_type": "code",
      "source": [
        "training_data.head()\n",
        "training_data.columns\n",
        "#training_data = training_data.drop('Unnamed: 0',axis = 1)\n",
        "training_data.columns\n",
        "training_data.head()\n",
        "def column_null_values(list_of_columns,df):\n",
        "  columns_contain_null = []\n",
        "  for i in list_of_columns:\n",
        "    if(df[i].isnull().any()):\n",
        "      columns_contain_null.append(i)\n",
        "  return columns_contain_null\n",
        "\n",
        "pn(training_data['bmi'].isnull().sum())\n",
        "pn(column_null_values(training_data.columns.tolist(),training_data))\n",
        "training_data = training_data.dropna()\n",
        "training_data.columns\n",
        "training_data['gender'].unique()\n",
        "pn(training_data['gender'].value_counts().get('Other', 0))\n",
        "training_data = training_data[training_data['gender'] != 'Other']\n",
        "training_data.columns\n",
        "training_data['age'].describe()\n",
        "training_data.columns\n",
        "training_data['hypertension'].unique()\n",
        "training_data.columns\n",
        "training_data['heart_disease'].unique()\n",
        "training_data.columns\n",
        "training_data['ever_married'].unique()\n",
        "training_data['ever_married'] = training_data['ever_married'].replace({'Yes': 1, 'No': 0})\n",
        "training_data.columns\n",
        "training_data['work_type'].unique()\n",
        "training_data.columns\n",
        "training_data['Residence_type'].unique()\n",
        "training_data['Residence_type'] = training_data['Residence_type'].replace({'Urban': 1, 'Rural': 0})\n",
        "training_data.columns\n",
        "training_data['avg_glucose_level'].describe()\n",
        "training_data.columns\n",
        "training_data['bmi'].describe()\n",
        "\n",
        "\n",
        "# training_data['age'].unique()\n",
        "# training_data['age'].value_counts()\n",
        "# training_data[training_data['age'] < 1]['age'].value_counts()\n",
        "# pn((training_data['age'] < 1).sum())\n",
        "\n",
        "\n",
        "\n",
        "\n",
        "\n"
      ],
      "metadata": {
        "id": "BjGIAewCeqe7"
      },
      "execution_count": null,
      "outputs": []
    }
  ]
}